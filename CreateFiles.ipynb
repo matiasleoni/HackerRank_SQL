{
 "cells": [
  {
   "cell_type": "code",
   "execution_count": 46,
   "metadata": {},
   "outputs": [],
   "source": [
    "with open(\"Solve SQL _ HackerRank.html\", 'r') as file:\n",
    "    html_string = file.read()\n",
    "    file.close()"
   ]
  },
  {
   "cell_type": "code",
   "execution_count": 77,
   "metadata": {},
   "outputs": [
    {
     "data": {
      "text/plain": [
       "['Revising_the_Select_Query_I',\n",
       " 'Revising_the_Select_Query_II',\n",
       " 'Select_All',\n",
       " 'Select_By_ID',\n",
       " \"Japanese_Cities'_Attributes\",\n",
       " \"Japanese_Cities'_Names\",\n",
       " 'Weather_Observation_Station_1',\n",
       " 'Weather_Observation_Station_3',\n",
       " 'Weather_Observation_Station_4',\n",
       " 'Weather_Observation_Station_5',\n",
       " 'Weather_Observation_Station_6',\n",
       " 'Weather_Observation_Station_7',\n",
       " 'Weather_Observation_Station_8',\n",
       " 'Weather_Observation_Station_9',\n",
       " 'Weather_Observation_Station_10',\n",
       " 'Weather_Observation_Station_11',\n",
       " 'Weather_Observation_Station_12',\n",
       " 'Higher_Than_75_Marks',\n",
       " 'Employee_Names',\n",
       " 'Employee_Salaries',\n",
       " 'Type_of_Triangle',\n",
       " 'The_PADS',\n",
       " 'Revising_Aggregations_-_The_Count_Function',\n",
       " 'Revising_Aggregations_-_The_Sum_Function',\n",
       " 'Revising_Aggregations_-_Averages',\n",
       " 'Average_Population',\n",
       " 'Japan_Population',\n",
       " 'Population_Density_Difference',\n",
       " 'The_Blunder',\n",
       " 'Top_Earners',\n",
       " 'Weather_Observation_Station_2',\n",
       " 'Weather_Observation_Station_13',\n",
       " 'Weather_Observation_Station_14',\n",
       " 'Weather_Observation_Station_15',\n",
       " 'Weather_Observation_Station_16',\n",
       " 'Weather_Observation_Station_17',\n",
       " 'Weather_Observation_Station_18',\n",
       " 'Weather_Observation_Station_19',\n",
       " 'Weather_Observation_Station_20',\n",
       " 'Population_Census_',\n",
       " 'African_Cities',\n",
       " 'Average_Population_of_Each_Continent',\n",
       " 'The_Report',\n",
       " 'Top_Competitors',\n",
       " 'Placements',\n",
       " 'Draw_The_Triangle_1',\n",
       " 'Draw_The_Triangle_2']"
      ]
     },
     "execution_count": 77,
     "metadata": {},
     "output_type": "execute_result"
    }
   ],
   "source": [
    "titles = []\n",
    "for idx in range(1,48):\n",
    "    raw = html_string\n",
    "    text = raw.split('challengecard-title\">')[idx]\n",
    "    text = text.split(\"<div class=\")[0]\n",
    "    titles.append(text.replace(\" \", '_'))\n",
    "titles"
   ]
  },
  {
   "cell_type": "code",
   "execution_count": 79,
   "metadata": {},
   "outputs": [],
   "source": [
    "for title in titles:\n",
    "    f = open(title+\".sql\", 'x')\n",
    "    f.close()"
   ]
  },
  {
   "cell_type": "code",
   "execution_count": 80,
   "metadata": {},
   "outputs": [
    {
     "data": {
      "text/plain": [
       "47"
      ]
     },
     "execution_count": 80,
     "metadata": {},
     "output_type": "execute_result"
    }
   ],
   "source": [
    "len(titles)"
   ]
  }
 ],
 "metadata": {
  "kernelspec": {
   "display_name": "Python 3",
   "language": "python",
   "name": "python3"
  },
  "language_info": {
   "codemirror_mode": {
    "name": "ipython",
    "version": 3
   },
   "file_extension": ".py",
   "mimetype": "text/x-python",
   "name": "python",
   "nbconvert_exporter": "python",
   "pygments_lexer": "ipython3",
   "version": "3.11.3"
  },
  "orig_nbformat": 4
 },
 "nbformat": 4,
 "nbformat_minor": 2
}
